{
 "cells": [
  {
   "cell_type": "code",
   "execution_count": 3,
   "id": "a84ac06f",
   "metadata": {},
   "outputs": [
    {
     "name": "stdout",
     "output_type": "stream",
     "text": [
      "0.6935361388961918\n"
     ]
    }
   ],
   "source": [
    "import math\n",
    "\n",
    "I_3_2 = -(0.6 * math.log2(0.6) + 0.4 * math.log2(0.4))\n",
    "I_2_3 = -(0.4 * math.log2(0.4) + 0.6 * math.log2(0.6))\n",
    "\n",
    "value = (5/14) * I_3_2 + (5/14) * I_2_3  # As (4/14)*I(4,0) = 0, it is not included in the calculation.\n",
    "\n",
    "print(value)"
   ]
  },
  {
   "cell_type": "code",
   "execution_count": null,
   "id": "89211e31",
   "metadata": {},
   "outputs": [],
   "source": [
    "I_9_5 = -((9/14) * math.log2(9/14) + (5/14) * math.log2(5/14))\n",
    "print(I_9_5)"
   ]
  },
  {
   "cell_type": "code",
   "execution_count": null,
   "id": "7bcc7aa4",
   "metadata": {},
   "outputs": [],
   "source": [
    "I_9_5 - value"
   ]
  },
  {
   "cell_type": "code",
   "execution_count": null,
   "id": "fb01319b",
   "metadata": {},
   "outputs": [],
   "source": [
    "I_8_6 = -((8/14) * math.log2(8/14) + (6/14) * math.log2(6/14))\n",
    "I_8_6"
   ]
  },
  {
   "cell_type": "code",
   "execution_count": null,
   "id": "45eac60e",
   "metadata": {},
   "outputs": [],
   "source": [
    "I_6_2 = -((6/8) * math.log2(6/8) + (2/8) * math.log2(2/8))\n",
    "I_3_3 = -((3/6) * math.log2(3/6) + (3/6) * math.log2(3/6))\n",
    "print(I_6_2)\n",
    "print(I_3_3)"
   ]
  },
  {
   "cell_type": "code",
   "execution_count": null,
   "id": "e080d704",
   "metadata": {},
   "outputs": [],
   "source": [
    "value = (8/14) * I_6_2 + (6/14) * I_3_3\n",
    "value"
   ]
  },
  {
   "cell_type": "code",
   "execution_count": null,
   "id": "95432be3",
   "metadata": {},
   "outputs": [],
   "source": [
    "I_8_6-value"
   ]
  },
  {
   "cell_type": "code",
   "execution_count": 8,
   "id": "e1ad6849",
   "metadata": {},
   "outputs": [
    {
     "name": "stdout",
     "output_type": "stream",
     "text": [
      "0.9182958340544896\n",
      "1.0\n",
      "0.8112781244591328\n",
      "1.0\n"
     ]
    }
   ],
   "source": [
    "I_2_1 = -((2/3) * math.log2(2/3) + (1/3) * math.log2(1/3))\n",
    "I_2_2 = -((2/4) * math.log2(2/4) + (2/4) * math.log2(2/4))\n",
    "I_3_1 = -((3/4) * math.log2(3/4) + (1/4) * math.log2(1/4))\n",
    "I_1_1 = -((1/2) * math.log2(1/2) + (1/2) * math.log2(1/2))\n",
    "print(I_2_1)\n",
    "print(I_2_2)\n",
    "print(I_3_1)\n",
    "print(I_1_1)"
   ]
  },
  {
   "cell_type": "code",
   "execution_count": 10,
   "id": "1eb39477",
   "metadata": {},
   "outputs": [
    {
     "name": "stdout",
     "output_type": "stream",
     "text": [
      "0.4591479170272448\n",
      "0.6666666666666666\n",
      "0.8741854163060885\n"
     ]
    }
   ],
   "source": [
    "v1 = I_2_1*(.5)\n",
    "print(v1)\n",
    "v2 = I_2_2 *(2/3)\n",
    "print(v2)\n",
    "v3 = I_3_1*(2/3)+(1/3)*I_1_1\n",
    "print(v3)"
   ]
  },
  {
   "cell_type": "code",
   "execution_count": null,
   "id": "5fef67c8",
   "metadata": {},
   "outputs": [],
   "source": [
    "import numpy as np\n",
    "import matplotlib.pyplot as plt"
   ]
  },
  {
   "cell_type": "code",
   "execution_count": null,
   "id": "5627df9b",
   "metadata": {},
   "outputs": [],
   "source": [
    "# Data from part 3\n",
    "ad = np.array([22, 25, 29, 35, 38, 42, 46, 52, 65, 88])\n",
    "s = np.array([64, 70, 80, 90, 100, 120, 130, 142, 180, 220])"
   ]
  },
  {
   "cell_type": "code",
   "execution_count": null,
   "id": "a05f95a8",
   "metadata": {},
   "outputs": [],
   "source": [
    "#plot data points\n",
    "plt.scatter(ad, s, color = 'blue', label = 'Data points')\n",
    "\n",
    "# calculated regression line\n",
    "m = 2.477  # Slope\n",
    "c = 10.126  # Intercept\n",
    "manual_s = m * ad + c\n",
    "plt.plot(ad, manual_s, color='red', label='Regression line')\n",
    "\n",
    "# Labelling and showing the plot\n",
    "plt.xlabel('Advertising dollars (in K)')\n",
    "plt.ylabel('Sales (in thousands $)')\n",
    "plt.title('Scatter Plot & Regression Line')\n",
    "plt.grid(True)\n",
    "plt.legend()\n",
    "plt.show()"
   ]
  },
  {
   "cell_type": "code",
   "execution_count": null,
   "id": "4ddcd991",
   "metadata": {},
   "outputs": [],
   "source": [
    "import numpy as np\n",
    "import matplotlib.pyplot as plt\n",
    "from sklearn.linear_model import LinearRegression\n",
    "from sklearn.metrics import r2_score\n",
    "\n",
    "# Data\n",
    "ad = np.array([22, 25, 29, 35, 38, 42, 46, 52, 65, 88]).reshape(-1, 1)\n",
    "s = np.array([64, 70, 80, 90, 100, 120, 130, 142, 180, 220])\n",
    "\n",
    "# Create a linear regression model\n",
    "model = LinearRegression()\n",
    "\n",
    "# Fit the model\n",
    "model.fit(ad, s)\n",
    "\n",
    "# Get the slope (m) and the y-intercept (b)\n",
    "m = model.coef_[0]\n",
    "b = model.intercept_\n",
    "\n",
    "print(f\"The equation of the regression line is: S = {m:.2f} * AD + {b:.2f}\")"
   ]
  },
  {
   "cell_type": "code",
   "execution_count": null,
   "id": "346f8847",
   "metadata": {},
   "outputs": [],
   "source": [
    "# Scatter plot\n",
    "plt.scatter(ad, s, color='blue', label='Data points')\n",
    "\n",
    "# Regression line\n",
    "predicted_s = model.predict(ad)\n",
    "plt.plot(ad, predicted_s, color='red', label='Regression line')\n",
    "\n",
    "plt.xlabel('Advertising dollars (in K)')\n",
    "plt.ylabel('Sales (in thousands $)')\n",
    "plt.title('Scatter Diagram and Regression Line')\n",
    "plt.legend()\n",
    "plt.show()"
   ]
  },
  {
   "cell_type": "code",
   "execution_count": null,
   "id": "e59ac224",
   "metadata": {},
   "outputs": [],
   "source": [
    "# Compute R^2\n",
    "r_squared = r2_score(s, predicted_s)\n",
    "\n",
    "print(f\"The value of R^2 is: {r_squared:.2f}\")"
   ]
  },
  {
   "cell_type": "code",
   "execution_count": null,
   "id": "3dc56688",
   "metadata": {},
   "outputs": [],
   "source": [
    "sales = (2.48*50)+9.83\n",
    "sales"
   ]
  },
  {
   "cell_type": "code",
   "execution_count": null,
   "id": "889f45e7",
   "metadata": {},
   "outputs": [],
   "source": []
  }
 ],
 "metadata": {
  "kernelspec": {
   "display_name": "Python 3 (ipykernel)",
   "language": "python",
   "name": "python3"
  },
  "language_info": {
   "codemirror_mode": {
    "name": "ipython",
    "version": 3
   },
   "file_extension": ".py",
   "mimetype": "text/x-python",
   "name": "python",
   "nbconvert_exporter": "python",
   "pygments_lexer": "ipython3",
   "version": "3.9.13"
  }
 },
 "nbformat": 4,
 "nbformat_minor": 5
}
